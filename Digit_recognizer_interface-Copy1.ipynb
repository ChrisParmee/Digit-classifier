{
 "cells": [
  {
   "cell_type": "markdown",
   "id": "ba7b6bf7",
   "metadata": {},
   "source": [
    "## - Code to draw a number and then have the trained model predict the number -"
   ]
  },
  {
   "cell_type": "markdown",
   "id": "22a0e5a5",
   "metadata": {},
   "source": [
    "### - Import data -"
   ]
  },
  {
   "cell_type": "code",
   "execution_count": 1,
   "id": "cd5c5c69",
   "metadata": {},
   "outputs": [],
   "source": [
    "import tkinter as tk\n",
    "from PIL import Image, ImageDraw ## Issue with __init__.py being an empty stub for PIL so can't use PIL.func in some cases\n",
    "import tensorflow as tf\n",
    "import numpy as np\n",
    "import matplotlib.pyplot as plt\n",
    "import pandas as pd"
   ]
  },
  {
   "cell_type": "markdown",
   "id": "0003934d",
   "metadata": {},
   "source": [
    "### - Define functions"
   ]
  },
  {
   "cell_type": "code",
   "execution_count": 2,
   "id": "7090ab1d",
   "metadata": {},
   "outputs": [],
   "source": [
    "def predict():\n",
    "    \"\"\" Function saves the drawing and makes prediction \"\"\"\n",
    "    ## Want the pixel_values and prediction to be global for saving in correct() function. \n",
    "    global pixel_values, predict\n",
    "    \n",
    "    ## Rescale image to 28 by 28 in size for the neural network input\n",
    "    new_image = image1.resize((28,28))\n",
    "    \n",
    "    ## Obtain the pixel values of the image\n",
    "    pixel_values = list(new_image.getdata())\n",
    "    width, height = new_image.size\n",
    "    \n",
    "    ## One channel as only want greyscale image\n",
    "    channels = 1 \n",
    "    \n",
    "    ## Reshape the pixel values into appropriate array for neural network\n",
    "    pixel_values = np.array(pixel_values).reshape((width, height, channels))\n",
    "    \n",
    "    ## Input shape needed depends on whether the model is just a dense NN or a CNN\n",
    "    shape = np.flip(np.array(reloaded.layers[0].input.get_shape()),0)\n",
    "    test_matrix = np.reshape(pixel_values, shape[:-1])\n",
    "    \n",
    "    ## Predict the number\n",
    "    predict = np.argmax(reloaded.predict(test_matrix), axis = 1);\n",
    "    \n",
    "    ## Delete the text and put prediction in widget\n",
    "    text_box.delete(1.0, \"end-1c\")\n",
    "    text_box.insert(\"end-1c\", \"prediction = \"+str(predict))\n",
    "    \n",
    "    ## Print image and prediction to notebook\n",
    "    image_matrix = np.reshape(pixel_values,(28,28))\n",
    "    plt.imshow(image_matrix)\n",
    "    plt.show()\n",
    "    print(\"prediction \", predict)\n",
    "\n",
    "    \n",
    "def clear():\n",
    "    \"\"\" Clears the canvas \"\"\"\n",
    "    ## Clears the paint from the canvas\n",
    "    cv.delete('all')\n",
    "    ## Draws a black rectangle in the PIL image\n",
    "    draw.rectangle((0, 0, 280, 280), fill='black')\n",
    "    \n",
    "    \n",
    "def correct():\n",
    "    \"\"\" If the model correctly predicts the number, \n",
    "    the user can press this button and the image and label \n",
    "    will be saved to a dataset to potentially be used to train the model further. \"\"\"\n",
    "    new_entry=np.array(pixel_values).reshape(1,28*28)\n",
    "\n",
    "    try: ## Check if file exists. If not, then create the file with the labels\n",
    "        with open('new_data.csv','x') as f:\n",
    "    \n",
    "            ## Create the label string\n",
    "            headerstring='ImageID,'\n",
    "            for i in range(len(new_entry[0])-1):\n",
    "                newstring = 'pixel'+str(i)+','\n",
    "                headerstring = headerstring + newstring\n",
    "            finalstring = 'pixel'+str(len(new_entry[0]))\n",
    "            headerstring = headerstring + finalstring\n",
    "            \n",
    "            ## Save the label and pixel array\n",
    "            np.savetxt(f, \n",
    "               np.c_[predict, new_entry],\n",
    "               delimiter = ',', \n",
    "               header = headerstring, \n",
    "               comments = '', \n",
    "               fmt = '%d')\n",
    "            f.close()\n",
    "    except: ## If file exists, then just append. Don't add a label line\n",
    "        with open('new_data.csv','a') as f:\n",
    "            np.savetxt(f, \n",
    "               np.c_[predict, new_entry],\n",
    "               delimiter = ',', \n",
    "               comments = '', \n",
    "               fmt = '%d')\n",
    "            f.close()\n",
    "            \n",
    "            \n",
    "def activate_paint(e):\n",
    "    \"\"\" Activates the paint function \"\"\"\n",
    "    global lastx, lasty\n",
    "    cv.bind('<B1-Motion>', paint)\n",
    "    lastx, lasty = e.x, e.y\n",
    "\n",
    "\n",
    "def paint(e):\n",
    "    \"\"\" Paints the lines \"\"\"\n",
    "    global lastx, lasty\n",
    "    penwidth = 20\n",
    "    x, y = e.x, e.y\n",
    "    cv.create_line((lastx, lasty, x, y), width=penwidth, fill='white')\n",
    "    #  --- PIL\n",
    "    draw.line((lastx, lasty, x, y), fill='white', width=penwidth)\n",
    "    lastx, lasty = x, y"
   ]
  },
  {
   "cell_type": "markdown",
   "id": "106a1823",
   "metadata": {},
   "source": [
    "### - Load in the tensorflow model -"
   ]
  },
  {
   "cell_type": "code",
   "execution_count": 3,
   "id": "418d66e9",
   "metadata": {},
   "outputs": [
    {
     "name": "stdout",
     "output_type": "stream",
     "text": [
      "Model: \"sequential\"\n",
      "_________________________________________________________________\n",
      " Layer (type)                Output Shape              Param #   \n",
      "=================================================================\n",
      " conv2d (Conv2D)             (None, 28, 28, 32)        320       \n",
      "                                                                 \n",
      " max_pooling2d (MaxPooling2D  (None, 14, 14, 32)       0         \n",
      " )                                                               \n",
      "                                                                 \n",
      " conv2d_1 (Conv2D)           (None, 14, 14, 64)        18496     \n",
      "                                                                 \n",
      " max_pooling2d_1 (MaxPooling  (None, 7, 7, 64)         0         \n",
      " 2D)                                                             \n",
      "                                                                 \n",
      " flatten (Flatten)           (None, 3136)              0         \n",
      "                                                                 \n",
      " dense (Dense)               (None, 128)               401536    \n",
      "                                                                 \n",
      " dense_1 (Dense)             (None, 10)                1290      \n",
      "                                                                 \n",
      "=================================================================\n",
      "Total params: 421,642\n",
      "Trainable params: 421,642\n",
      "Non-trainable params: 0\n",
      "_________________________________________________________________\n"
     ]
    }
   ],
   "source": [
    "tf.keras.backend.clear_session()\n",
    "\n",
    "export_path_keras = \"saved_model.h5\"\n",
    "reloaded = tf.keras.models.load_model(export_path_keras)\n",
    "reloaded.summary()"
   ]
  },
  {
   "cell_type": "markdown",
   "id": "afb5c5d6",
   "metadata": {},
   "source": [
    "### - Set up Tkinter canvas -"
   ]
  },
  {
   "cell_type": "code",
   "execution_count": 4,
   "id": "ae5d3a7a",
   "metadata": {},
   "outputs": [],
   "source": [
    "root = tk.Tk()\n",
    "lastx, lasty = None, None\n",
    "image_number = 0\n",
    "\n",
    "cv = tk.Canvas(root, width=280, height=280, bg='black')"
   ]
  },
  {
   "cell_type": "markdown",
   "id": "9874dd24",
   "metadata": {},
   "source": [
    "#### Creates a Pillow Image to then use in the neural network"
   ]
  },
  {
   "cell_type": "code",
   "execution_count": 5,
   "id": "b2d4dde0",
   "metadata": {},
   "outputs": [],
   "source": [
    "image1 = Image.new('L', (280,280), 'black') ##'RGB'\n",
    "draw = ImageDraw.Draw(image1)"
   ]
  },
  {
   "cell_type": "markdown",
   "id": "024486be",
   "metadata": {},
   "source": [
    "#### Binds activate paint to the canvas"
   ]
  },
  {
   "cell_type": "code",
   "execution_count": 6,
   "id": "01895ac8",
   "metadata": {},
   "outputs": [],
   "source": [
    "cv.bind('<1>', activate_paint)\n",
    "cv.pack(expand='YES', fill='both')"
   ]
  },
  {
   "cell_type": "markdown",
   "id": "4c3a337f",
   "metadata": {},
   "source": [
    "#### Creates a button to call the prediction function"
   ]
  },
  {
   "cell_type": "code",
   "execution_count": 7,
   "id": "fc2c3036",
   "metadata": {},
   "outputs": [],
   "source": [
    "btn_save = tk.Button(text=\"predict\", command=predict)\n",
    "btn_save.pack()"
   ]
  },
  {
   "cell_type": "markdown",
   "id": "9cbd1ccc",
   "metadata": {},
   "source": [
    "#### Creates a button to clear the canvas to draw new number"
   ]
  },
  {
   "cell_type": "code",
   "execution_count": 8,
   "id": "c140b858",
   "metadata": {},
   "outputs": [],
   "source": [
    "btn_clear = tk.Button(text=\"clear\", command=clear)\n",
    "btn_clear.pack()"
   ]
  },
  {
   "cell_type": "markdown",
   "id": "25c80b18",
   "metadata": {},
   "source": [
    "#### Creates a button to be clicked if output correct"
   ]
  },
  {
   "cell_type": "code",
   "execution_count": 9,
   "id": "caec89ce",
   "metadata": {},
   "outputs": [],
   "source": [
    "btn_correct = tk.Button(text=\"Click if correct\", command=correct)\n",
    "btn_correct.pack()"
   ]
  },
  {
   "cell_type": "markdown",
   "id": "933b643e",
   "metadata": {},
   "source": [
    "#### Creates a text box to show the predicted number"
   ]
  },
  {
   "cell_type": "code",
   "execution_count": 10,
   "id": "d3693e16",
   "metadata": {},
   "outputs": [],
   "source": [
    "text_box = tk.Text(root, width = 25, height = 2)\n",
    "text_box.insert(\"end-1c\", \"Number prediction\")\n",
    "text_box.pack()"
   ]
  },
  {
   "cell_type": "markdown",
   "id": "6986cecd",
   "metadata": {},
   "source": [
    "### - Starts the number drawing widget in new pop up window -"
   ]
  },
  {
   "cell_type": "code",
   "execution_count": 11,
   "id": "dc92984d",
   "metadata": {},
   "outputs": [
    {
     "data": {
      "image/png": "[encoded data removed]",
      "text/plain": [
       "<Figure size 432x288 with 1 Axes>"
      ]
     },
     "metadata": {
      "needs_background": "light"
     },
     "output_type": "display_data"
    },
    {
     "name": "stdout",
     "output_type": "stream",
     "text": [
      "prediction  [3]\n"
     ]
    },
    {
     "data": {
      "image/png": "[encoded data removed]",
      "text/plain": [
       "<Figure size 432x288 with 1 Axes>"
      ]
     },
     "metadata": {
      "needs_background": "light"
     },
     "output_type": "display_data"
    },
    {
     "name": "stdout",
     "output_type": "stream",
     "text": [
      "prediction  [4]\n"
     ]
    },
    {
     "data": {
      "image/png": "[encoded data removed]",
      "text/plain": [
       "<Figure size 432x288 with 1 Axes>"
      ]
     },
     "metadata": {
      "needs_background": "light"
     },
     "output_type": "display_data"
    },
    {
     "name": "stdout",
     "output_type": "stream",
     "text": [
      "prediction  [7]\n"
     ]
    },
    {
     "data": {
      "image/png": "[encoded data removed]",
      "text/plain": [
       "<Figure size 432x288 with 1 Axes>"
      ]
     },
     "metadata": {
      "needs_background": "light"
     },
     "output_type": "display_data"
    },
    {
     "name": "stdout",
     "output_type": "stream",
     "text": [
      "prediction  [7]\n"
     ]
    }
   ],
   "source": [
    "root.mainloop()"
   ]
  }
 ],
 "metadata": {
  "kernelspec": {
   "display_name": "Python 3 (ipykernel)",
   "language": "python",
   "name": "python3"
  },
  "language_info": {
   "codemirror_mode": {
    "name": "ipython",
    "version": 3
   },
   "file_extension": ".py",
   "mimetype": "text/x-python",
   "name": "python",
   "nbconvert_exporter": "python",
   "pygments_lexer": "ipython3",
   "version": "3.9.7"
  }
 },
 "nbformat": 4,
 "nbformat_minor": 5
}
