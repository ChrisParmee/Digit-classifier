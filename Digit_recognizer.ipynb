{
 "cells": [
  {
   "cell_type": "markdown",
   "id": "3c5a32dc",
   "metadata": {},
   "source": [
    "## - Code for Kaggle competition code: Digit recognizer -"
   ]
  },
  {
   "cell_type": "markdown",
   "id": "76fd6c77",
   "metadata": {},
   "source": [
    "#### Import modules"
   ]
  },
  {
   "cell_type": "code",
   "execution_count": 1,
   "id": "9c20e737",
   "metadata": {},
   "outputs": [],
   "source": [
    "import tensorflow as tf\n",
    "import numpy as np\n",
    "import pandas as pd\n",
    "import matplotlib.pyplot as plt\n",
    "import sys \n",
    "from myFunctions import myPrint"
   ]
  },
  {
   "cell_type": "markdown",
   "id": "a85db021",
   "metadata": {},
   "source": [
    "### - Import the data -\n",
    "Each image is 28 pixels in height and 28 pixels in width, for a total of 784 pixels in total. \n",
    "Each pixel has a single pixel-value associated with it, indicating the lightness or darkness of that pixel, with higher numbers meaning darker. This pixel-value is an integer between 0 and 255, inclusive."
   ]
  },
  {
   "cell_type": "code",
   "execution_count": 2,
   "id": "1bc1bce0",
   "metadata": {},
   "outputs": [],
   "source": [
    "train_data = pd.read_csv('train.csv')\n",
    "test_data = pd.read_csv('test.csv')"
   ]
  },
  {
   "cell_type": "markdown",
   "id": "81fb6181",
   "metadata": {},
   "source": [
    "### - Visualise some of the data -"
   ]
  },
  {
   "cell_type": "markdown",
   "id": "21a7319c",
   "metadata": {},
   "source": [
    "#### First 10 entries in dataset"
   ]
  },
  {
   "cell_type": "code",
   "execution_count": 3,
   "id": "ed3aab4a",
   "metadata": {},
   "outputs": [
    {
     "name": "stdout",
     "output_type": "stream",
     "text": [
      "   label  pixel0  pixel1  pixel2  pixel3  pixel4  pixel5  pixel6  pixel7  \\\n",
      "0      1       0       0       0       0       0       0       0       0   \n",
      "1      0       0       0       0       0       0       0       0       0   \n",
      "2      1       0       0       0       0       0       0       0       0   \n",
      "3      4       0       0       0       0       0       0       0       0   \n",
      "4      0       0       0       0       0       0       0       0       0   \n",
      "\n",
      "   pixel8  ...  pixel774  pixel775  pixel776  pixel777  pixel778  pixel779  \\\n",
      "0       0  ...         0         0         0         0         0         0   \n",
      "1       0  ...         0         0         0         0         0         0   \n",
      "2       0  ...         0         0         0         0         0         0   \n",
      "3       0  ...         0         0         0         0         0         0   \n",
      "4       0  ...         0         0         0         0         0         0   \n",
      "\n",
      "   pixel780  pixel781  pixel782  pixel783  \n",
      "0         0         0         0         0  \n",
      "1         0         0         0         0  \n",
      "2         0         0         0         0  \n",
      "3         0         0         0         0  \n",
      "4         0         0         0         0  \n",
      "\n",
      "[5 rows x 785 columns]\n"
     ]
    }
   ],
   "source": [
    "print(train_data.head())"
   ]
  },
  {
   "cell_type": "markdown",
   "id": "8a9c024c",
   "metadata": {},
   "source": [
    "#### Plot one of the numbers"
   ]
  },
  {
   "cell_type": "code",
   "execution_count": 4,
   "id": "c7109af9",
   "metadata": {},
   "outputs": [
    {
     "data": {
      "image/png": "[encoded data removed]",
      "text/plain": [
       "<Figure size 432x288 with 2 Axes>"
      ]
     },
     "metadata": {
      "needs_background": "light"
     },
     "output_type": "display_data"
    }
   ],
   "source": [
    "data_choice = 3\n",
    "image_matrix = np.reshape((train_data.iloc[data_choice].drop('label', axis = 0)).tolist(),(28,28))\n",
    "plt.imshow(image_matrix)\n",
    "plt.colorbar()\n",
    "plt.show()"
   ]
  },
  {
   "cell_type": "markdown",
   "id": "c0127cf3",
   "metadata": {},
   "source": [
    "#### Scale the data\n",
    "Scale the pixel input [0 - 255] --> [0 - 1] for both train and test data. \n",
    "Note this takes a few minutes"
   ]
  },
  {
   "cell_type": "code",
   "execution_count": 5,
   "id": "9e24f1f4",
   "metadata": {},
   "outputs": [
    {
     "name": "stdout",
     "output_type": "stream",
     "text": [
      "Data Scaled\n"
     ]
    }
   ],
   "source": [
    "new_train_data = train_data.copy()\n",
    "new_test_data = test_data.copy()\n",
    "new_train_data[new_train_data.columns[1:-1]] = new_train_data[new_train_data.columns[1:-1]]/255\n",
    "new_test_data[new_test_data.columns[1:-1]] = new_test_data[new_test_data.columns[1:-1]]/255\n",
    "print(\"Data Scaled\")"
   ]
  },
  {
   "cell_type": "markdown",
   "id": "3d5cf64e",
   "metadata": {},
   "source": [
    "#### Split the data into a train (60%), validation (20%) and test (20%) set"
   ]
  },
  {
   "cell_type": "code",
   "execution_count": 6,
   "id": "d0eed763",
   "metadata": {},
   "outputs": [
    {
     "name": "stdout",
     "output_type": "stream",
     "text": [
      "Train data length =  42000  Test data length =  28000\n"
     ]
    }
   ],
   "source": [
    "train_data_length = len(new_train_data)\n",
    "test_data_length = len(new_test_data)\n",
    "print(\"Train data length = \", train_data_length, \" Test data length = \", test_data_length)"
   ]
  },
  {
   "cell_type": "code",
   "execution_count": 7,
   "id": "cff12cdb",
   "metadata": {},
   "outputs": [],
   "source": [
    "cutone = int(0.6*train_data_length)\n",
    "cuttwo = int(0.8*train_data_length)"
   ]
  },
  {
   "cell_type": "code",
   "execution_count": 8,
   "id": "3af6d655",
   "metadata": {},
   "outputs": [],
   "source": [
    "X_train = new_train_data.iloc[:cutone].drop('label', axis = 1)\n",
    "Y_train = new_train_data.iloc[:cutone]['label']\n",
    "X_valid = new_train_data.iloc[cutone:cuttwo].drop('label', axis = 1)\n",
    "Y_valid = new_train_data.iloc[cutone:cuttwo]['label']\n",
    "X_test = new_train_data.iloc[cuttwo:].drop('label', axis = 1)\n",
    "Y_test = new_train_data.iloc[cuttwo:]['label']"
   ]
  },
  {
   "cell_type": "markdown",
   "id": "932a287d",
   "metadata": {},
   "source": [
    "### - Train the model -"
   ]
  },
  {
   "cell_type": "markdown",
   "id": "081fe19b",
   "metadata": {},
   "source": [
    "#### Clear the tensorflow session"
   ]
  },
  {
   "cell_type": "code",
   "execution_count": 9,
   "id": "7f634e58",
   "metadata": {},
   "outputs": [],
   "source": [
    "tf.keras.backend.clear_session()"
   ]
  },
  {
   "cell_type": "markdown",
   "id": "3a4fddc3",
   "metadata": {},
   "source": [
    "#### Choose the model to fit. Choice is between a Dense neural network or a CNN"
   ]
  },
  {
   "cell_type": "code",
   "execution_count": 10,
   "id": "64ecea6f",
   "metadata": {},
   "outputs": [
    {
     "name": "stdout",
     "output_type": "stream",
     "text": [
      "CNN\n"
     ]
    }
   ],
   "source": [
    "model = 'CNN'\n",
    "\n",
    "if model == 'Dense':\n",
    "    print('Dense')\n",
    "    ## Build a dense neural network\n",
    "    ## Neural network has input layer of 28*28, hidden middle layer with 128 nodes and output layer with 10 nodes for 0:9\n",
    "    model = tf.keras.Sequential([\n",
    "                tf.keras.layers.Flatten(input_shape = (28*28, 1)),\n",
    "                tf.keras.layers.Dense(128, activation = tf.nn.relu),\n",
    "                tf.keras.layers.Dense(10, activation = tf.nn.softmax),\n",
    "                ])\n",
    "elif model == 'CNN':\n",
    "    print('CNN')\n",
    "    ### Build a CNN with 2 Convolutional layers using a 3x3 kernel to generate 32 and 64 images, respectively\n",
    "    ### Also have a MaxPool layer after each Convolutional layer with a 2x2 grid and stride of 2 to half image size each time\n",
    "    ### Last layer flattens all the images and feeds into a hidden dense layer with 128 neurons, before feeding to output layer\n",
    "    ### with 10 nodes for 0:9\n",
    "    model = tf.keras.Sequential([\n",
    "        tf.keras.layers.Conv2D(32, (3,3), padding='same', activation=tf.nn.relu,\n",
    "                           input_shape=(28, 28, 1)),\n",
    "        tf.keras.layers.MaxPooling2D((2, 2), strides=2),\n",
    "        tf.keras.layers.Conv2D(64, (3,3), padding='same', activation=tf.nn.relu),\n",
    "        tf.keras.layers.MaxPooling2D((2, 2), strides=2),\n",
    "        tf.keras.layers.Flatten(),\n",
    "        tf.keras.layers.Dense(128, activation=tf.nn.relu),\n",
    "        tf.keras.layers.Dense(10, activation=tf.nn.softmax)\n",
    "        ])\n",
    "    ## Note that for CNN data needs reshaping.\n",
    "    X_train = (X_train.to_numpy()).reshape((cutone,28,28))\n",
    "    X_valid = (X_valid.to_numpy()).reshape((cuttwo - cutone,28,28))\n",
    "    X_test = (X_test.to_numpy()).reshape((train_data_length - cuttwo,28,28))\n",
    "    new_test_data = (new_test_data.to_numpy()).reshape((test_data_length,28,28))\n",
    "else:\n",
    "        myPrint(\"No model selected\")\n",
    "        sys.exit()"
   ]
  },
  {
   "cell_type": "markdown",
   "id": "88fde9d6",
   "metadata": {},
   "source": [
    "#### Set the learning rate"
   ]
  },
  {
   "cell_type": "code",
   "execution_count": 11,
   "id": "62c23abe",
   "metadata": {},
   "outputs": [],
   "source": [
    "lr = 1e-3"
   ]
  },
  {
   "cell_type": "markdown",
   "id": "17aaf0e7",
   "metadata": {},
   "source": [
    "#### Compile the model"
   ]
  },
  {
   "cell_type": "code",
   "execution_count": 12,
   "id": "5279ddf3",
   "metadata": {},
   "outputs": [
    {
     "name": "stdout",
     "output_type": "stream",
     "text": [
      "Model: \"sequential\"\n",
      "_________________________________________________________________\n",
      " Layer (type)                Output Shape              Param #   \n",
      "=================================================================\n",
      " conv2d (Conv2D)             (None, 28, 28, 32)        320       \n",
      "                                                                 \n",
      " max_pooling2d (MaxPooling2D  (None, 14, 14, 32)       0         \n",
      " )                                                               \n",
      "                                                                 \n",
      " conv2d_1 (Conv2D)           (None, 14, 14, 64)        18496     \n",
      "                                                                 \n",
      " max_pooling2d_1 (MaxPooling  (None, 7, 7, 64)         0         \n",
      " 2D)                                                             \n",
      "                                                                 \n",
      " flatten (Flatten)           (None, 3136)              0         \n",
      "                                                                 \n",
      " dense (Dense)               (None, 128)               401536    \n",
      "                                                                 \n",
      " dense_1 (Dense)             (None, 10)                1290      \n",
      "                                                                 \n",
      "=================================================================\n",
      "Total params: 421,642\n",
      "Trainable params: 421,642\n",
      "Non-trainable params: 0\n",
      "_________________________________________________________________\n"
     ]
    }
   ],
   "source": [
    "model.compile(optimizer = tf.keras.optimizers.Adam(lr),\n",
    "             loss = tf.keras.losses.SparseCategoricalCrossentropy(), \n",
    "             metrics = ['accuracy'])\n",
    "model.summary()"
   ]
  },
  {
   "cell_type": "markdown",
   "id": "1d8a7636",
   "metadata": {},
   "source": [
    "#### Set number of epochs"
   ]
  },
  {
   "cell_type": "code",
   "execution_count": 13,
   "id": "bbd6fd32",
   "metadata": {},
   "outputs": [],
   "source": [
    "num_epochs = 5"
   ]
  },
  {
   "cell_type": "markdown",
   "id": "c6ade06e",
   "metadata": {},
   "source": [
    "#### Fit the model, using a validation set too."
   ]
  },
  {
   "cell_type": "code",
   "execution_count": 14,
   "id": "39bbefa0",
   "metadata": {},
   "outputs": [
    {
     "name": "stdout",
     "output_type": "stream",
     "text": [
      "Epoch 1/5\n",
      "788/788 [==============================] - 10s 12ms/step - loss: 0.1954 - accuracy: 0.9392 - val_loss: 0.0694 - val_accuracy: 0.9776\n",
      "Epoch 2/5\n",
      "788/788 [==============================] - 10s 12ms/step - loss: 0.0558 - accuracy: 0.9828 - val_loss: 0.0599 - val_accuracy: 0.9805\n",
      "Epoch 3/5\n",
      "788/788 [==============================] - 9s 12ms/step - loss: 0.0365 - accuracy: 0.9884 - val_loss: 0.0544 - val_accuracy: 0.9839\n",
      "Epoch 4/5\n",
      "788/788 [==============================] - 9s 12ms/step - loss: 0.0259 - accuracy: 0.9919 - val_loss: 0.0399 - val_accuracy: 0.9868\n",
      "Epoch 5/5\n",
      "788/788 [==============================] - 9s 11ms/step - loss: 0.0195 - accuracy: 0.9934 - val_loss: 0.0591 - val_accuracy: 0.9818\n"
     ]
    }
   ],
   "source": [
    "history = model.fit(X_train, \n",
    "                    Y_train, \n",
    "                    epochs = num_epochs,\n",
    "                    validation_data = (X_valid,Y_valid),)"
   ]
  },
  {
   "cell_type": "markdown",
   "id": "c335e751",
   "metadata": {},
   "source": [
    "#### Look at cross validation\n",
    "Probably not needed for small number of epochs?"
   ]
  },
  {
   "cell_type": "code",
   "execution_count": 15,
   "id": "a7d98964",
   "metadata": {},
   "outputs": [
    {
     "data": {
      "image/png": "[encoded data removed]",
      "text/plain": [
       "<Figure size 432x288 with 1 Axes>"
      ]
     },
     "metadata": {
      "needs_background": "light"
     },
     "output_type": "display_data"
    }
   ],
   "source": [
    "epoch_range = range(num_epochs)\n",
    "val_loss = history.history['val_loss']\n",
    "plt.plot(epoch_range, history.history['loss'], label = 'Training loss')\n",
    "plt.plot(epoch_range, history.history['val_loss'], label = 'Validation loss')\n",
    "plt.legend(loc = 'upper right')\n",
    "plt.xlabel('epoch number')\n",
    "plt.show()"
   ]
  },
  {
   "cell_type": "markdown",
   "id": "e9194388",
   "metadata": {},
   "source": [
    "#### Look at single prediction"
   ]
  },
  {
   "cell_type": "code",
   "execution_count": 16,
   "id": "ed8bd74a",
   "metadata": {},
   "outputs": [
    {
     "name": "stdout",
     "output_type": "stream",
     "text": [
      "2\n",
      "[0 7 7 ... 7 6 9]\n"
     ]
    }
   ],
   "source": [
    "print((Y_test.iloc[3:4]).iloc[0])\n",
    "predict = np.argmax(model.predict(X_test), axis = 1);\n",
    "print(predict)"
   ]
  },
  {
   "cell_type": "markdown",
   "id": "b82b1321",
   "metadata": {},
   "source": [
    "#### Evaluate the model on training set and then test set"
   ]
  },
  {
   "cell_type": "code",
   "execution_count": 17,
   "id": "8ecb7b81",
   "metadata": {},
   "outputs": [
    {
     "name": "stdout",
     "output_type": "stream",
     "text": [
      "788/788 [==============================] - 3s 4ms/step - loss: 0.0250 - accuracy: 0.9916: 1s - l\n",
      "[0.025030456483364105, 0.9916269779205322]\n",
      "263/263 [==============================] - 1s 5ms/step - loss: 0.0571 - accuracy: 0.9818\n",
      "[0.05707137659192085, 0.9817857146263123]\n"
     ]
    }
   ],
   "source": [
    "print(model.evaluate(X_train, Y_train))\n",
    "print(model.evaluate(X_test, Y_test))"
   ]
  },
  {
   "cell_type": "markdown",
   "id": "0ddb5fb5",
   "metadata": {},
   "source": [
    "### - Create predictions for the test data and create submission file -"
   ]
  },
  {
   "cell_type": "code",
   "execution_count": 18,
   "id": "799e6450",
   "metadata": {},
   "outputs": [],
   "source": [
    "new_predict = np.argmax(model.predict(new_test_data), axis = 1);\n",
    "np.savetxt('submission_NE.csv', np.c_[range(1,len(new_test_data)+1), new_predict], delimiter = ',', header = 'ImageID,Label', comments = '', fmt = '%d')"
   ]
  },
  {
   "cell_type": "markdown",
   "id": "1cd7a2da",
   "metadata": {},
   "source": [
    "### - Save the trained model for use in other file -"
   ]
  },
  {
   "cell_type": "code",
   "execution_count": 19,
   "id": "330f6b76",
   "metadata": {},
   "outputs": [],
   "source": [
    "export_path_keras = \"saved_model.h5\"\n",
    "model.save(export_path_keras)"
   ]
  }
 ],
 "metadata": {
  "kernelspec": {
   "display_name": "Python 3 (ipykernel)",
   "language": "python",
   "name": "python3"
  },
  "language_info": {
   "codemirror_mode": {
    "name": "ipython",
    "version": 3
   },
   "file_extension": ".py",
   "mimetype": "text/x-python",
   "name": "python",
   "nbconvert_exporter": "python",
   "pygments_lexer": "ipython3",
   "version": "3.9.7"
  }
 },
 "nbformat": 4,
 "nbformat_minor": 5
}
